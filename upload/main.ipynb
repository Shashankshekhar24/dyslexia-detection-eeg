{
 "cells": [
  {
   "cell_type": "code",
   "execution_count": 1,
   "metadata": {},
   "outputs": [
    {
     "name": "stdout",
     "output_type": "stream",
     "text": [
      " * Serving Flask app '__main__'\n",
      " * Debug mode: off\n"
     ]
    },
    {
     "name": "stderr",
     "output_type": "stream",
     "text": [
      "\u001b[31m\u001b[1mWARNING: This is a development server. Do not use it in a production deployment. Use a production WSGI server instead.\u001b[0m\n",
      " * Running on http://127.0.0.1:5000\n",
      "\u001b[33mPress CTRL+C to quit\u001b[0m\n",
      "[2024-03-24 12:07:04,095] ERROR in app: Exception on /predict [POST]\n",
      "Traceback (most recent call last):\n",
      "  File \"/home/animesh/miniconda3/lib/python3.10/site-packages/flask/app.py\", line 2190, in wsgi_app\n",
      "    response = self.full_dispatch_request()\n",
      "  File \"/home/animesh/miniconda3/lib/python3.10/site-packages/flask/app.py\", line 1486, in full_dispatch_request\n",
      "    rv = self.handle_user_exception(e)\n",
      "  File \"/home/animesh/miniconda3/lib/python3.10/site-packages/flask/app.py\", line 1484, in full_dispatch_request\n",
      "    rv = self.dispatch_request()\n",
      "  File \"/home/animesh/miniconda3/lib/python3.10/site-packages/flask/app.py\", line 1469, in dispatch_request\n",
      "    return self.ensure_sync(self.view_functions[rule.endpoint])(**view_args)\n",
      "  File \"/tmp/ipykernel_6247/1750172450.py\", line 36, in predict\n",
      "    confidence_percentage = round(float(sigmoid(confidence_scores) * 100),2)\n",
      "TypeError: only size-1 arrays can be converted to Python scalars\n",
      "127.0.0.1 - - [24/Mar/2024 12:07:04] \"\u001b[35m\u001b[1mPOST /predict HTTP/1.1\u001b[0m\" 500 -\n"
     ]
    }
   ],
   "source": [
    "from flask import Flask, request, jsonify\n",
    "import pandas as pd\n",
    "import numpy as np\n",
    "import joblib\n",
    "\n",
    "loaded_pipeline = joblib.load('svm_model.joblib')\n",
    "\n",
    "scaler = loaded_pipeline.named_steps['standardscaler']\n",
    "svm_classifier = loaded_pipeline.named_steps['svc']\n",
    "\n",
    "def sigmoid(x):\n",
    "    return 1 / (1 + np.exp(-x))\n",
    "\n",
    "app = Flask(__name__)\n",
    "\n",
    "@app.route('/upload', methods=['POST'])\n",
    "def upload_file():\n",
    "    if 'file' not in request.files:\n",
    "        return 'No file part'\n",
    "\n",
    "    file = request.files['file']\n",
    "    \n",
    "    # Do something with the file, e.g., save it to the server\n",
    "    file.save('uploaded_file.csv')\n",
    "\n",
    "    return 'File uploaded successfully'\n",
    "\n",
    "@app.route('/predict', methods=['POST'])\n",
    "def predict():\n",
    "    received_data = pd.read_csv('uploaded_file.csv')\n",
    "    X_new = received_data\n",
    "    X_new_standardized = scaler.transform(X_new)\n",
    "    prediction = svm_classifier.predict(X_new_standardized).astype(int)\n",
    "\n",
    "    confidence_scores = svm_classifier.decision_function(X_new_standardized)\n",
    "    confidence_percentage = round(float(sigmoid(confidence_scores) * 100),2)\n",
    "\n",
    "    return jsonify({'prediction': prediction.tolist(), 'confidence': confidence_percentage})\n",
    "\n",
    "if __name__ == '__main__':\n",
    "    app.run(port=5000)\n"
   ]
  },
  {
   "cell_type": "code",
   "execution_count": 9,
   "metadata": {},
   "outputs": [
    {
     "name": "stdout",
     "output_type": "stream",
     "text": [
      " * Serving Flask app '__main__'\n",
      " * Debug mode: off\n"
     ]
    },
    {
     "name": "stderr",
     "output_type": "stream",
     "text": [
      "\u001b[31m\u001b[1mWARNING: This is a development server. Do not use it in a production deployment. Use a production WSGI server instead.\u001b[0m\n",
      " * Running on http://127.0.0.1:5000\n",
      "\u001b[33mPress CTRL+C to quit\u001b[0m\n"
     ]
    },
    {
     "name": "stderr",
     "output_type": "stream",
     "text": [
      "127.0.0.1 - - [24/Mar/2024 12:25:05] \"POST /predict HTTP/1.1\" 200 -\n"
     ]
    }
   ],
   "source": [
    "from flask import Flask, request, jsonify\n",
    "import pandas as pd\n",
    "import numpy as np\n",
    "import joblib\n",
    "from flask_cors import CORS\n",
    "\n",
    "loaded_pipeline = joblib.load('svm_model.joblib')\n",
    "\n",
    "scaler = loaded_pipeline.named_steps['standardscaler']\n",
    "svm_classifier = loaded_pipeline.named_steps['svc']\n",
    "\n",
    "def sigmoid(x):\n",
    "    return 1 / (1 + np.exp(-x))\n",
    "\n",
    "app = Flask(__name__)\n",
    "CORS(app)\n",
    "\n",
    "@app.route('/predict', methods=['POST'])\n",
    "def predict():\n",
    "    received_data = pd.read_csv('uploaded_file.csv')\n",
    "    X_new = received_data\n",
    "    X_new_standardized = scaler.transform(X_new)\n",
    "    prediction = svm_classifier.predict(X_new_standardized).astype(int)\n",
    "    \n",
    "    confidence_scores = svm_classifier.decision_function(X_new_standardized)\n",
    "    # print(type(confidence_scores))\n",
    "    confidence_percentages = np.array([round(float(sigmoid(i) * 100), 2) for i in confidence_scores])\n",
    "\n",
    "    return jsonify({'prediction': prediction.tolist(), 'confidence': confidence_percentages.tolist()})\n",
    "\n",
    "if __name__ == '__main__':\n",
    "    app.run(port=5000)\n"
   ]
  }
 ],
 "metadata": {
  "kernelspec": {
   "display_name": "base",
   "language": "python",
   "name": "python3"
  },
  "language_info": {
   "codemirror_mode": {
    "name": "ipython",
    "version": 3
   },
   "file_extension": ".py",
   "mimetype": "text/x-python",
   "name": "python",
   "nbconvert_exporter": "python",
   "pygments_lexer": "ipython3",
   "version": "3.10.13"
  }
 },
 "nbformat": 4,
 "nbformat_minor": 2
}
