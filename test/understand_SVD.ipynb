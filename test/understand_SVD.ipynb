{
 "cells": [
  {
   "cell_type": "code",
   "execution_count": 1,
   "metadata": {},
   "outputs": [],
   "source": [
    "import numpy as np\n",
    "from sklearn.decomposition import TruncatedSVD\n",
    "\n",
    "data = np.array([[1, 2],\n",
    "                 [3, 4],\n",
    "                 [5, 6]])"
   ]
  },
  {
   "cell_type": "code",
   "execution_count": 6,
   "metadata": {},
   "outputs": [],
   "source": [
    "# Specify the number of components (singular values) to keep\n",
    "n_components = 1\n",
    "\n",
    "# Create TruncatedSVD model and fit_transform the data\n",
    "svd = TruncatedSVD(n_components=n_components)\n",
    "data_reduced = svd.fit_transform(data)\n",
    "\n",
    "# The components_ attribute contains the Vt matrix\n",
    "Vt_truncated = svd.components_\n",
    "\n",
    "# U matrix is directly available in the transformed data\n",
    "U_truncated = data_reduced.dot(np.diag(svd.singular_values_))\n",
    "\n",
    "# Sigma matrix (diagonal matrix) with only the top singular value\n",
    "Sigma_truncated = np.diag(svd.singular_values_)\n",
    "\n",
    "# Reconstruct the data with the truncated U, Sigma, and Vt matrices\n",
    "data_reconstructed = U_truncated.dot(Vt_truncated)"
   ]
  },
  {
   "cell_type": "markdown",
   "metadata": {},
   "source": [
    "Truncated Singular Value Decomposition (TruncatedSVD) Calculation\n",
    "\n",
    "Given Data Matrix:\n",
    "$ A = \\begin{bmatrix} 1 & 2 \\\\ 3 & 4 \\\\ 5 & 6 \\end{bmatrix} $\n",
    "\n",
    "1. Calculate the Singular Value Decomposition (SVD):\n",
    "\n",
    "a. Calculate $A^TA$ and $AA^T$:\n",
    "$ A^TA = \\begin{bmatrix} 35 & 44 \\\\ 44 & 56 \\end{bmatrix}, \\quad AA^T = \\begin{bmatrix} 5 & 11 & 17 \\\\ 11 & 25 & 39 \\\\ 17 & 39 & 61 \\end{bmatrix} $\n",
    "\n",
    "b. Find the eigenvalues and eigenvectors of $A^TA$ and $AA^T$:\n",
    "\n",
    "For $A^TA$:\n",
    "- Eigenvalues: $90.86, 0.14$\n",
    "- Eigenvectors: $\\begin{bmatrix} 0.789 \\\\ 0.615 \\end{bmatrix}, \\begin{bmatrix} -0.615 \\\\ 0.789 \\end{bmatrix}$\n",
    "\n",
    "For $AA^T$:\n",
    "- Eigenvalues: $0.14, 90.86, 0.0$\n",
    "- Eigenvectors: $\\begin{bmatrix} 0.615 \\\\ 0.789 \\end{bmatrix}, \\begin{bmatrix} -0.789 \\\\ 0.615 \\end{bmatrix}, \\begin{bmatrix} 0.0 \\\\ 0.0 \\end{bmatrix}$\n",
    "\n",
    "c. Normalize the eigenvectors to form $V$:\n",
    "$ V = \\begin{bmatrix} 0.615 & -0.789 \\\\ 0.789 & 0.615 \\end{bmatrix} $\n",
    "\n",
    "d. Calculate singular values ($\\sigma$) from the eigenvalues:\n",
    "$ \\sigma = \\sqrt{\\text{eigenvalues}} = \\begin{bmatrix} 9.53 \\\\ 0.12 \\end{bmatrix} $\n",
    "\n",
    "e. Construct $U$ using the normalized eigenvectors:\n",
    "$ U = \\frac{1}{\\sigma} A V = \\begin{bmatrix} -0.229 & 0.883 \\\\ -0.525 & 0.241 \\\\ -0.820 & -0.402 \\end{bmatrix} $\n",
    "\n",
    "Finally, we have the SVD: $A = U \\Sigma V^T$, where\n",
    "$ U = \\begin{bmatrix} -0.229 & 0.883 \\\\ -0.525 & 0.241 \\\\ -0.820 & -0.402 \\end{bmatrix} $\n",
    "$ \\Sigma = \\begin{bmatrix} 9.53 & 0 \\\\ 0 & 0.12 \\end{bmatrix} $\n",
    "$ V^T = \\begin{bmatrix} 0.615 & 0.789 \\\\ -0.789 & 0.615 \\end{bmatrix} $\n",
    "\n",
    "2. Truncate to the Top 1 Singular Value:\n",
    "\n",
    "Truncate $U$, $\\Sigma$, and $V$ accordingly:\n",
    "$ U_{\\text{trunc}} = \\begin{bmatrix} -0.229 \\\\ -0.525 \\\\ -0.820 \\end{bmatrix} $\n",
    "$ \\Sigma_{\\text{trunc}} = \\begin{bmatrix} 9.53 \\end{bmatrix} $\n",
    "$ V_{\\text{trunc}} = \\begin{bmatrix} 0.615 & 0.789 \\end{bmatrix} $\n",
    "\n",
    "3. Reconstruct the Matrix with the Truncated Components:\n",
    "\n",
    "$ A_{\\text{trunc}} = U_{\\text{trunc}} \\Sigma_{\\text{trunc}} (V_{\\text{trunc}})^T $\n",
    "\n",
    "$ A_{\\text{trunc}} \\approx \\begin{bmatrix} 0.946 & 1.959 \\\\ 2.882 & 3.754 \\\\ 4.818 & 5.548 \\end{bmatrix} $\n",
    "\n",
    "This truncated matrix $A_{\\text{trunc}}$ is the lower-rank approximation of the original matrix $A$ using only the top singular value."
   ]
  },
  {
   "cell_type": "code",
   "execution_count": 7,
   "metadata": {},
   "outputs": [
    {
     "name": "stdout",
     "output_type": "stream",
     "text": [
      "Original data:\n",
      " [[1 2]\n",
      " [3 4]\n",
      " [5 6]]\n",
      "U truncated:\n",
      " [[20.85534449]\n",
      " [47.61298083]\n",
      " [74.37061718]]\n",
      "Sigma truncated:\n",
      " [[9.52551809]]\n",
      "Vt truncated:\n",
      " [[0.61962948 0.78489445]]\n",
      "Truncated data:\n",
      " [[2.18941839]\n",
      " [4.99846626]\n",
      " [7.80751414]]\n",
      "Reconstructed data:\n",
      " [[12.92258634 16.36924421]\n",
      " [29.50240674 37.37116456]\n",
      " [46.08222713 58.37308491]]\n"
     ]
    }
   ],
   "source": [
    "print(\"Original data:\\n\", data)\n",
    "print(\"U truncated:\\n\", U_truncated)\n",
    "print(\"Sigma truncated:\\n\", Sigma_truncated)\n",
    "print(\"Vt truncated:\\n\", Vt_truncated)\n",
    "print(\"Truncated data:\\n\", data_reduced)\n",
    "print(\"Reconstructed data:\\n\", data_reconstructed)\n"
   ]
  }
 ],
 "metadata": {
  "kernelspec": {
   "display_name": "base",
   "language": "python",
   "name": "python3"
  },
  "language_info": {
   "codemirror_mode": {
    "name": "ipython",
    "version": 3
   },
   "file_extension": ".py",
   "mimetype": "text/x-python",
   "name": "python",
   "nbconvert_exporter": "python",
   "pygments_lexer": "ipython3",
   "version": "3.10.13"
  }
 },
 "nbformat": 4,
 "nbformat_minor": 2
}
