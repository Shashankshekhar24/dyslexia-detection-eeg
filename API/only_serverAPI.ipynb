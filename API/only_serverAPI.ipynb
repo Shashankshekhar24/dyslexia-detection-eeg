{
 "cells": [
  {
   "cell_type": "markdown",
   "metadata": {},
   "source": [
    "# Only Flask Server"
   ]
  },
  {
   "cell_type": "code",
   "execution_count": null,
   "metadata": {},
   "outputs": [],
   "source": [
    "from twilio.rest import Client\n",
    "\n",
    "account_sid = 'fin₫ your account sid'\n",
    "auth_token = 'find your auth token'\n",
    "client = Client(account_sid, auth_token)\n",
    "\n",
    "message = client.messages.create(\n",
    "  from_='whatsapp:+14155238886',\n",
    "  body='Your appointment is coming up on July 21 at 3PM',\n",
    "  to='whatsapp:+91xxxxxxxxxx'\n",
    ")\n",
    "\n",
    "print(message.sid)"
   ]
  },
  {
   "cell_type": "code",
   "execution_count": 2,
   "metadata": {},
   "outputs": [
    {
     "name": "stdout",
     "output_type": "stream",
     "text": [
      " * Serving Flask app '__main__'\n",
      " * Debug mode: off\n"
     ]
    },
    {
     "name": "stderr",
     "output_type": "stream",
     "text": [
      "\u001b[31m\u001b[1mWARNING: This is a development server. Do not use it in a production deployment. Use a production WSGI server instead.\u001b[0m\n",
      " * Running on http://127.0.0.1:5000\n",
      "\u001b[33mPress CTRL+C to quit\u001b[0m\n",
      "127.0.0.1 - - [06/Feb/2024 21:00:40] \"POST /predict HTTP/1.1\" 200 -\n"
     ]
    }
   ],
   "source": [
    "from flask import Flask, request, jsonify\n",
    "from flask_limiter import Limiter\n",
    "from flask_limiter.util import get_remote_address\n",
    "import numpy as np\n",
    "import pandas as pd\n",
    "import joblib\n",
    "from flask_cors import CORS\n",
    "\n",
    "loaded_pipeline = joblib.load('svm_model.joblib')\n",
    "\n",
    "scaler = loaded_pipeline.named_steps['standardscaler']\n",
    "svm_classifier = loaded_pipeline.named_steps['svc']\n",
    "\n",
    "def sigmoid(x):\n",
    "    return 1 / (1 + np.exp(-x))\n",
    "\n",
    "app = Flask(__name__)\n",
    "CORS(app)\n",
    "\n",
    "limiter = Limiter(\n",
    "    get_remote_address,\n",
    "    app=app,\n",
    "    default_limits=[\"200 per day\", \"5 per hour\"],\n",
    "    storage_uri=\"memory://\",\n",
    ")\n",
    "\n",
    "@app.route('/predict', methods=['POST'])\n",
    "@limiter.limit(\"5 per minute\")\n",
    "def predict():\n",
    "    data = request.get_json()\n",
    "    x_test = data['features']\n",
    "    received_array = np.array(x_test)\n",
    "    columns_to_select = ['Attention', 'Mediation', 'Raw', 'Delta', 'Theta', 'Alpha1', 'Alpha2',\n",
    "       'Beta1', 'Beta2', 'Gamma1', 'Gamma2', 'age', 'ethnicity', 'gender']\n",
    "    received_dataframe = pd.DataFrame(data=[received_array], columns=columns_to_select)\n",
    "    X_new = received_dataframe\n",
    "    X_new_standardized = scaler.transform(X_new)\n",
    "    prediction = svm_classifier.predict(X_new_standardized).astype(int)[0]\n",
    "\n",
    "    confidence_scores = svm_classifier.decision_function(X_new_standardized)\n",
    "    confidence_percentage = round(float(sigmoid(confidence_scores) * 100),2)\n",
    "\n",
    "    return jsonify({'prediction': prediction.tolist(), 'confidence': confidence_percentage})\n",
    "\n",
    "\n",
    "if __name__ == '__main__':\n",
    "    app.run(port=5000)"
   ]
  }
 ],
 "metadata": {
  "kernelspec": {
   "display_name": "base",
   "language": "python",
   "name": "python3"
  },
  "language_info": {
   "codemirror_mode": {
    "name": "ipython",
    "version": 3
   },
   "file_extension": ".py",
   "mimetype": "text/x-python",
   "name": "python",
   "nbconvert_exporter": "python",
   "pygments_lexer": "ipython3",
   "version": "3.10.13"
  }
 },
 "nbformat": 4,
 "nbformat_minor": 2
}
