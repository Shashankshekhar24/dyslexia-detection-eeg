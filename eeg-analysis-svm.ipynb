{
 "cells": [
  {
   "cell_type": "code",
   "execution_count": 1,
   "metadata": {},
   "outputs": [],
   "source": [
    "import numpy as np\n",
    "import pandas as pd\n",
    "import matplotlib.pyplot as plt\n",
    "import seaborn as sns\n",
    "from sklearn.preprocessing import StandardScaler"
   ]
  },
  {
   "cell_type": "code",
   "execution_count": 2,
   "metadata": {},
   "outputs": [],
   "source": [
    "df=pd.read_csv('./EEG_data.csv')\n",
    "data = pd.read_csv('./demographic_info.csv')"
   ]
  },
  {
   "cell_type": "code",
   "execution_count": 3,
   "metadata": {},
   "outputs": [
    {
     "data": {
      "text/html": [
       "<div>\n",
       "<style scoped>\n",
       "    .dataframe tbody tr th:only-of-type {\n",
       "        vertical-align: middle;\n",
       "    }\n",
       "\n",
       "    .dataframe tbody tr th {\n",
       "        vertical-align: top;\n",
       "    }\n",
       "\n",
       "    .dataframe thead th {\n",
       "        text-align: right;\n",
       "    }\n",
       "</style>\n",
       "<table border=\"1\" class=\"dataframe\">\n",
       "  <thead>\n",
       "    <tr style=\"text-align: right;\">\n",
       "      <th></th>\n",
       "      <th>SubjectID</th>\n",
       "      <th>VideoID</th>\n",
       "      <th>Attention</th>\n",
       "      <th>Mediation</th>\n",
       "      <th>Raw</th>\n",
       "      <th>Delta</th>\n",
       "      <th>Theta</th>\n",
       "      <th>Alpha1</th>\n",
       "      <th>Alpha2</th>\n",
       "      <th>Beta1</th>\n",
       "      <th>Beta2</th>\n",
       "      <th>Gamma1</th>\n",
       "      <th>Gamma2</th>\n",
       "      <th>predefinedlabel</th>\n",
       "      <th>user-definedlabeln</th>\n",
       "      <th>age</th>\n",
       "      <th>ethnicity</th>\n",
       "      <th>gender</th>\n",
       "    </tr>\n",
       "  </thead>\n",
       "  <tbody>\n",
       "    <tr>\n",
       "      <th>0</th>\n",
       "      <td>0.0</td>\n",
       "      <td>0.0</td>\n",
       "      <td>56.0</td>\n",
       "      <td>43.0</td>\n",
       "      <td>278.0</td>\n",
       "      <td>301963.0</td>\n",
       "      <td>90612.0</td>\n",
       "      <td>33735.0</td>\n",
       "      <td>23991.0</td>\n",
       "      <td>27946.0</td>\n",
       "      <td>45097.0</td>\n",
       "      <td>33228.0</td>\n",
       "      <td>8293.0</td>\n",
       "      <td>0.0</td>\n",
       "      <td>0.0</td>\n",
       "      <td>25</td>\n",
       "      <td>Han Chinese</td>\n",
       "      <td>M</td>\n",
       "    </tr>\n",
       "    <tr>\n",
       "      <th>1</th>\n",
       "      <td>0.0</td>\n",
       "      <td>0.0</td>\n",
       "      <td>40.0</td>\n",
       "      <td>35.0</td>\n",
       "      <td>-50.0</td>\n",
       "      <td>73787.0</td>\n",
       "      <td>28083.0</td>\n",
       "      <td>1439.0</td>\n",
       "      <td>2240.0</td>\n",
       "      <td>2746.0</td>\n",
       "      <td>3687.0</td>\n",
       "      <td>5293.0</td>\n",
       "      <td>2740.0</td>\n",
       "      <td>0.0</td>\n",
       "      <td>0.0</td>\n",
       "      <td>25</td>\n",
       "      <td>Han Chinese</td>\n",
       "      <td>M</td>\n",
       "    </tr>\n",
       "    <tr>\n",
       "      <th>2</th>\n",
       "      <td>0.0</td>\n",
       "      <td>0.0</td>\n",
       "      <td>47.0</td>\n",
       "      <td>48.0</td>\n",
       "      <td>101.0</td>\n",
       "      <td>758353.0</td>\n",
       "      <td>383745.0</td>\n",
       "      <td>201999.0</td>\n",
       "      <td>62107.0</td>\n",
       "      <td>36293.0</td>\n",
       "      <td>130536.0</td>\n",
       "      <td>57243.0</td>\n",
       "      <td>25354.0</td>\n",
       "      <td>0.0</td>\n",
       "      <td>0.0</td>\n",
       "      <td>25</td>\n",
       "      <td>Han Chinese</td>\n",
       "      <td>M</td>\n",
       "    </tr>\n",
       "    <tr>\n",
       "      <th>3</th>\n",
       "      <td>0.0</td>\n",
       "      <td>0.0</td>\n",
       "      <td>47.0</td>\n",
       "      <td>57.0</td>\n",
       "      <td>-5.0</td>\n",
       "      <td>2012240.0</td>\n",
       "      <td>129350.0</td>\n",
       "      <td>61236.0</td>\n",
       "      <td>17084.0</td>\n",
       "      <td>11488.0</td>\n",
       "      <td>62462.0</td>\n",
       "      <td>49960.0</td>\n",
       "      <td>33932.0</td>\n",
       "      <td>0.0</td>\n",
       "      <td>0.0</td>\n",
       "      <td>25</td>\n",
       "      <td>Han Chinese</td>\n",
       "      <td>M</td>\n",
       "    </tr>\n",
       "    <tr>\n",
       "      <th>4</th>\n",
       "      <td>0.0</td>\n",
       "      <td>0.0</td>\n",
       "      <td>44.0</td>\n",
       "      <td>53.0</td>\n",
       "      <td>-8.0</td>\n",
       "      <td>1005145.0</td>\n",
       "      <td>354328.0</td>\n",
       "      <td>37102.0</td>\n",
       "      <td>88881.0</td>\n",
       "      <td>45307.0</td>\n",
       "      <td>99603.0</td>\n",
       "      <td>44790.0</td>\n",
       "      <td>29749.0</td>\n",
       "      <td>0.0</td>\n",
       "      <td>0.0</td>\n",
       "      <td>25</td>\n",
       "      <td>Han Chinese</td>\n",
       "      <td>M</td>\n",
       "    </tr>\n",
       "  </tbody>\n",
       "</table>\n",
       "</div>"
      ],
      "text/plain": [
       "   SubjectID  VideoID  Attention  Mediation    Raw      Delta     Theta  \\\n",
       "0        0.0      0.0       56.0       43.0  278.0   301963.0   90612.0   \n",
       "1        0.0      0.0       40.0       35.0  -50.0    73787.0   28083.0   \n",
       "2        0.0      0.0       47.0       48.0  101.0   758353.0  383745.0   \n",
       "3        0.0      0.0       47.0       57.0   -5.0  2012240.0  129350.0   \n",
       "4        0.0      0.0       44.0       53.0   -8.0  1005145.0  354328.0   \n",
       "\n",
       "     Alpha1   Alpha2    Beta1     Beta2   Gamma1   Gamma2  predefinedlabel  \\\n",
       "0   33735.0  23991.0  27946.0   45097.0  33228.0   8293.0              0.0   \n",
       "1    1439.0   2240.0   2746.0    3687.0   5293.0   2740.0              0.0   \n",
       "2  201999.0  62107.0  36293.0  130536.0  57243.0  25354.0              0.0   \n",
       "3   61236.0  17084.0  11488.0   62462.0  49960.0  33932.0              0.0   \n",
       "4   37102.0  88881.0  45307.0   99603.0  44790.0  29749.0              0.0   \n",
       "\n",
       "   user-definedlabeln  age    ethnicity gender  \n",
       "0                 0.0   25  Han Chinese      M  \n",
       "1                 0.0   25  Han Chinese      M  \n",
       "2                 0.0   25  Han Chinese      M  \n",
       "3                 0.0   25  Han Chinese      M  \n",
       "4                 0.0   25  Han Chinese      M  "
      ]
     },
     "execution_count": 3,
     "metadata": {},
     "output_type": "execute_result"
    }
   ],
   "source": [
    "data = data.rename(columns = {'subject ID': 'SubjectID',' gender':'gender',' age':'age',' ethnicity':'ethnicity'})\n",
    "df = df.merge(data,how = 'inner',on = 'SubjectID')\n",
    "df.head()"
   ]
  },
  {
   "cell_type": "code",
   "execution_count": 4,
   "metadata": {},
   "outputs": [
    {
     "data": {
      "text/plain": [
       "(12811, 18)"
      ]
     },
     "execution_count": 4,
     "metadata": {},
     "output_type": "execute_result"
    }
   ],
   "source": [
    "df.shape"
   ]
  },
  {
   "cell_type": "code",
   "execution_count": 5,
   "metadata": {},
   "outputs": [
    {
     "name": "stdout",
     "output_type": "stream",
     "text": [
      "<class 'pandas.core.frame.DataFrame'>\n",
      "RangeIndex: 12811 entries, 0 to 12810\n",
      "Data columns (total 18 columns):\n",
      " #   Column              Non-Null Count  Dtype  \n",
      "---  ------              --------------  -----  \n",
      " 0   SubjectID           12811 non-null  float64\n",
      " 1   VideoID             12811 non-null  float64\n",
      " 2   Attention           12811 non-null  float64\n",
      " 3   Mediation           12811 non-null  float64\n",
      " 4   Raw                 12811 non-null  float64\n",
      " 5   Delta               12811 non-null  float64\n",
      " 6   Theta               12811 non-null  float64\n",
      " 7   Alpha1              12811 non-null  float64\n",
      " 8   Alpha2              12811 non-null  float64\n",
      " 9   Beta1               12811 non-null  float64\n",
      " 10  Beta2               12811 non-null  float64\n",
      " 11  Gamma1              12811 non-null  float64\n",
      " 12  Gamma2              12811 non-null  float64\n",
      " 13  predefinedlabel     12811 non-null  float64\n",
      " 14  user-definedlabeln  12811 non-null  float64\n",
      " 15  age                 12811 non-null  int64  \n",
      " 16  ethnicity           12811 non-null  object \n",
      " 17  gender              12811 non-null  object \n",
      "dtypes: float64(15), int64(1), object(2)\n",
      "memory usage: 1.8+ MB\n"
     ]
    }
   ],
   "source": [
    "df.info()"
   ]
  },
  {
   "cell_type": "code",
   "execution_count": 6,
   "metadata": {},
   "outputs": [
    {
     "data": {
      "text/plain": [
       "Index(['SubjectID', 'VideoID', 'Attention', 'Mediation', 'Raw', 'Delta',\n",
       "       'Theta', 'Alpha1', 'Alpha2', 'Beta1', 'Beta2', 'Gamma1', 'Gamma2',\n",
       "       'predefinedlabel', 'user-definedlabeln', 'age', 'ethnicity', 'gender'],\n",
       "      dtype='object')"
      ]
     },
     "execution_count": 6,
     "metadata": {},
     "output_type": "execute_result"
    }
   ],
   "source": [
    "df.columns"
   ]
  },
  {
   "cell_type": "code",
   "execution_count": 7,
   "metadata": {},
   "outputs": [],
   "source": [
    "df['gender']=df['gender'].replace({'M':1,'F':0})\n",
    "df['ethnicity']=df['ethnicity'].replace({'Han Chinese':0,'Bengali':1,'English':2})\n",
    "df.drop(columns = ['SubjectID','VideoID','predefinedlabel'],inplace=True)"
   ]
  },
  {
   "cell_type": "code",
   "execution_count": 8,
   "metadata": {},
   "outputs": [
    {
     "data": {
      "text/plain": [
       "(12811, 15)"
      ]
     },
     "execution_count": 8,
     "metadata": {},
     "output_type": "execute_result"
    }
   ],
   "source": [
    "df.shape"
   ]
  },
  {
   "cell_type": "markdown",
   "metadata": {},
   "source": [
    "this is for checking null value"
   ]
  },
  {
   "cell_type": "code",
   "execution_count": 9,
   "metadata": {},
   "outputs": [],
   "source": [
    "for col in df.columns:\n",
    "    if(df[col].isnull().sum()>0):\n",
    "        print(col)"
   ]
  },
  {
   "cell_type": "code",
   "execution_count": 10,
   "metadata": {},
   "outputs": [],
   "source": [
    "top_fea=df.drop(['user-definedlabeln'],axis=1)"
   ]
  },
  {
   "cell_type": "code",
   "execution_count": 11,
   "metadata": {},
   "outputs": [],
   "source": [
    "scaler = StandardScaler()\n",
    "X=scaler.fit_transform(top_fea)"
   ]
  },
  {
   "cell_type": "code",
   "execution_count": 12,
   "metadata": {},
   "outputs": [
    {
     "data": {
      "text/plain": [
       "(12811, 14)"
      ]
     },
     "execution_count": 12,
     "metadata": {},
     "output_type": "execute_result"
    }
   ],
   "source": [
    "X.shape"
   ]
  },
  {
   "cell_type": "code",
   "execution_count": 13,
   "metadata": {},
   "outputs": [],
   "source": [
    "from sklearn.model_selection import train_test_split\n",
    "y=df['user-definedlabeln']\n",
    "X_train,x_test,Y_train,y_test=train_test_split(X,y,random_state=108,test_size=0.27)"
   ]
  },
  {
   "cell_type": "code",
   "execution_count": 14,
   "metadata": {},
   "outputs": [
    {
     "data": {
      "text/plain": [
       "(9352, 14)"
      ]
     },
     "execution_count": 14,
     "metadata": {},
     "output_type": "execute_result"
    }
   ],
   "source": [
    "X_train.shape"
   ]
  },
  {
   "cell_type": "code",
   "execution_count": 15,
   "metadata": {},
   "outputs": [],
   "source": [
    "from sklearn.svm import SVC\n",
    "from sklearn.metrics import accuracy_score"
   ]
  },
  {
   "cell_type": "code",
   "execution_count": 16,
   "metadata": {},
   "outputs": [
    {
     "data": {
      "text/html": [
       "<style>#sk-container-id-1 {color: black;}#sk-container-id-1 pre{padding: 0;}#sk-container-id-1 div.sk-toggleable {background-color: white;}#sk-container-id-1 label.sk-toggleable__label {cursor: pointer;display: block;width: 100%;margin-bottom: 0;padding: 0.3em;box-sizing: border-box;text-align: center;}#sk-container-id-1 label.sk-toggleable__label-arrow:before {content: \"▸\";float: left;margin-right: 0.25em;color: #696969;}#sk-container-id-1 label.sk-toggleable__label-arrow:hover:before {color: black;}#sk-container-id-1 div.sk-estimator:hover label.sk-toggleable__label-arrow:before {color: black;}#sk-container-id-1 div.sk-toggleable__content {max-height: 0;max-width: 0;overflow: hidden;text-align: left;background-color: #f0f8ff;}#sk-container-id-1 div.sk-toggleable__content pre {margin: 0.2em;color: black;border-radius: 0.25em;background-color: #f0f8ff;}#sk-container-id-1 input.sk-toggleable__control:checked~div.sk-toggleable__content {max-height: 200px;max-width: 100%;overflow: auto;}#sk-container-id-1 input.sk-toggleable__control:checked~label.sk-toggleable__label-arrow:before {content: \"▾\";}#sk-container-id-1 div.sk-estimator input.sk-toggleable__control:checked~label.sk-toggleable__label {background-color: #d4ebff;}#sk-container-id-1 div.sk-label input.sk-toggleable__control:checked~label.sk-toggleable__label {background-color: #d4ebff;}#sk-container-id-1 input.sk-hidden--visually {border: 0;clip: rect(1px 1px 1px 1px);clip: rect(1px, 1px, 1px, 1px);height: 1px;margin: -1px;overflow: hidden;padding: 0;position: absolute;width: 1px;}#sk-container-id-1 div.sk-estimator {font-family: monospace;background-color: #f0f8ff;border: 1px dotted black;border-radius: 0.25em;box-sizing: border-box;margin-bottom: 0.5em;}#sk-container-id-1 div.sk-estimator:hover {background-color: #d4ebff;}#sk-container-id-1 div.sk-parallel-item::after {content: \"\";width: 100%;border-bottom: 1px solid gray;flex-grow: 1;}#sk-container-id-1 div.sk-label:hover label.sk-toggleable__label {background-color: #d4ebff;}#sk-container-id-1 div.sk-serial::before {content: \"\";position: absolute;border-left: 1px solid gray;box-sizing: border-box;top: 0;bottom: 0;left: 50%;z-index: 0;}#sk-container-id-1 div.sk-serial {display: flex;flex-direction: column;align-items: center;background-color: white;padding-right: 0.2em;padding-left: 0.2em;position: relative;}#sk-container-id-1 div.sk-item {position: relative;z-index: 1;}#sk-container-id-1 div.sk-parallel {display: flex;align-items: stretch;justify-content: center;background-color: white;position: relative;}#sk-container-id-1 div.sk-item::before, #sk-container-id-1 div.sk-parallel-item::before {content: \"\";position: absolute;border-left: 1px solid gray;box-sizing: border-box;top: 0;bottom: 0;left: 50%;z-index: -1;}#sk-container-id-1 div.sk-parallel-item {display: flex;flex-direction: column;z-index: 1;position: relative;background-color: white;}#sk-container-id-1 div.sk-parallel-item:first-child::after {align-self: flex-end;width: 50%;}#sk-container-id-1 div.sk-parallel-item:last-child::after {align-self: flex-start;width: 50%;}#sk-container-id-1 div.sk-parallel-item:only-child::after {width: 0;}#sk-container-id-1 div.sk-dashed-wrapped {border: 1px dashed gray;margin: 0 0.4em 0.5em 0.4em;box-sizing: border-box;padding-bottom: 0.4em;background-color: white;}#sk-container-id-1 div.sk-label label {font-family: monospace;font-weight: bold;display: inline-block;line-height: 1.2em;}#sk-container-id-1 div.sk-label-container {text-align: center;}#sk-container-id-1 div.sk-container {/* jupyter's `normalize.less` sets `[hidden] { display: none; }` but bootstrap.min.css set `[hidden] { display: none !important; }` so we also need the `!important` here to be able to override the default hidden behavior on the sphinx rendered scikit-learn.org. See: https://github.com/scikit-learn/scikit-learn/issues/21755 */display: inline-block !important;position: relative;}#sk-container-id-1 div.sk-text-repr-fallback {display: none;}</style><div id=\"sk-container-id-1\" class=\"sk-top-container\"><div class=\"sk-text-repr-fallback\"><pre>SVC(random_state=108)</pre><b>In a Jupyter environment, please rerun this cell to show the HTML representation or trust the notebook. <br />On GitHub, the HTML representation is unable to render, please try loading this page with nbviewer.org.</b></div><div class=\"sk-container\" hidden><div class=\"sk-item\"><div class=\"sk-estimator sk-toggleable\"><input class=\"sk-toggleable__control sk-hidden--visually\" id=\"sk-estimator-id-1\" type=\"checkbox\" checked><label for=\"sk-estimator-id-1\" class=\"sk-toggleable__label sk-toggleable__label-arrow\">SVC</label><div class=\"sk-toggleable__content\"><pre>SVC(random_state=108)</pre></div></div></div></div></div>"
      ],
      "text/plain": [
       "SVC(random_state=108)"
      ]
     },
     "execution_count": 16,
     "metadata": {},
     "output_type": "execute_result"
    }
   ],
   "source": [
    "# Create an SVM classifier\n",
    "svm_classifier = SVC(random_state=108)\n",
    "\n",
    "# Train the classifier on the training data\n",
    "svm_classifier.fit(X_train, Y_train)"
   ]
  },
  {
   "cell_type": "code",
   "execution_count": 17,
   "metadata": {},
   "outputs": [
    {
     "data": {
      "text/plain": [
       "array([0, 1, 1, ..., 0, 0, 0])"
      ]
     },
     "execution_count": 17,
     "metadata": {},
     "output_type": "execute_result"
    }
   ],
   "source": [
    "# Make predictions on the test data\n",
    "predictions = svm_classifier.predict(x_test).astype(int)\n",
    "predictions"
   ]
  },
  {
   "cell_type": "code",
   "execution_count": 18,
   "metadata": {},
   "outputs": [
    {
     "data": {
      "text/plain": [
       "0.66493206128939"
      ]
     },
     "execution_count": 18,
     "metadata": {},
     "output_type": "execute_result"
    }
   ],
   "source": [
    "accuracy = accuracy_score(y_test, predictions)\n",
    "accuracy"
   ]
  },
  {
   "cell_type": "code",
   "execution_count": 19,
   "metadata": {},
   "outputs": [],
   "source": [
    "from sklearn.metrics import classification_report,confusion_matrix"
   ]
  },
  {
   "cell_type": "code",
   "execution_count": 20,
   "metadata": {},
   "outputs": [
    {
     "data": {
      "image/png": "[encoded data removed]",
      "text/plain": [
       "<Figure size 400x400 with 1 Axes>"
      ]
     },
     "metadata": {},
     "output_type": "display_data"
    }
   ],
   "source": [
    "cm = confusion_matrix(y_test, predictions)\n",
    "\n",
    "plt.figure(figsize=(4, 4))\n",
    "\n",
    "sns.heatmap(cm, annot=True, fmt='g', vmin=0, cbar=False)\n",
    "\n",
    "plt.xlabel(\"Predicted\")\n",
    "plt.ylabel(\"Actual\")\n",
    "plt.title(\"Confusion Matrix\")\n",
    "\n",
    "plt.show()"
   ]
  },
  {
   "cell_type": "code",
   "execution_count": 21,
   "metadata": {},
   "outputs": [
    {
     "name": "stderr",
     "output_type": "stream",
     "text": [
      "2023-12-04 21:30:55.090538: I tensorflow/core/platform/cpu_feature_guard.cc:182] This TensorFlow binary is optimized to use available CPU instructions in performance-critical operations.\n",
      "To enable the following instructions: SSE4.1 SSE4.2 AVX AVX2 FMA, in other operations, rebuild TensorFlow with the appropriate compiler flags.\n"
     ]
    }
   ],
   "source": [
    "import tensorflow as tf\n",
    "from tensorflow import keras\n",
    "from tensorflow.keras import callbacks,layers"
   ]
  },
  {
   "cell_type": "code",
   "execution_count": 22,
   "metadata": {},
   "outputs": [
    {
     "name": "stdout",
     "output_type": "stream",
     "text": [
      "Epoch 1/50\n"
     ]
    },
    {
     "name": "stderr",
     "output_type": "stream",
     "text": [
      "2023-12-04 21:30:56.390231: I tensorflow/core/common_runtime/process_util.cc:146] Creating new thread pool with default inter op setting: 2. Tune using inter_op_parallelism_threads for best performance.\n"
     ]
    },
    {
     "name": "stdout",
     "output_type": "stream",
     "text": [
      "234/234 [==============================] - 3s 9ms/step - loss: 0.6517 - accuracy: 0.6157 - auc: 0.6626 - val_loss: 0.6509 - val_accuracy: 0.6446 - val_auc: 0.6874 - lr: 0.0010\n",
      "Epoch 2/50\n",
      "234/234 [==============================] - 2s 7ms/step - loss: 0.6313 - accuracy: 0.6435 - auc: 0.6938 - val_loss: 0.6398 - val_accuracy: 0.6162 - val_auc: 0.6861 - lr: 0.0010\n",
      "Epoch 3/50\n",
      "234/234 [==============================] - 3s 13ms/step - loss: 0.6208 - accuracy: 0.6488 - auc: 0.7093 - val_loss: 0.6382 - val_accuracy: 0.6253 - val_auc: 0.7026 - lr: 0.0010\n",
      "Epoch 4/50\n",
      "234/234 [==============================] - 3s 15ms/step - loss: 0.6149 - accuracy: 0.6535 - auc: 0.7161 - val_loss: 0.6339 - val_accuracy: 0.6558 - val_auc: 0.7057 - lr: 0.0010\n",
      "Epoch 5/50\n",
      "234/234 [==============================] - 1s 6ms/step - loss: 0.6073 - accuracy: 0.6610 - auc: 0.7276 - val_loss: 0.6235 - val_accuracy: 0.6440 - val_auc: 0.7151 - lr: 0.0010\n",
      "Epoch 6/50\n",
      "234/234 [==============================] - 2s 8ms/step - loss: 0.6014 - accuracy: 0.6684 - auc: 0.7329 - val_loss: 0.6254 - val_accuracy: 0.6521 - val_auc: 0.7088 - lr: 0.0010\n",
      "Epoch 7/50\n",
      "234/234 [==============================] - 2s 10ms/step - loss: 0.5946 - accuracy: 0.6746 - auc: 0.7434 - val_loss: 0.6241 - val_accuracy: 0.6644 - val_auc: 0.7172 - lr: 0.0010\n",
      "Epoch 8/50\n",
      "234/234 [==============================] - 3s 12ms/step - loss: 0.5879 - accuracy: 0.6781 - auc: 0.7493 - val_loss: 0.6180 - val_accuracy: 0.6478 - val_auc: 0.7133 - lr: 0.0010\n",
      "Epoch 9/50\n",
      "234/234 [==============================] - 2s 9ms/step - loss: 0.5839 - accuracy: 0.6820 - auc: 0.7529 - val_loss: 0.6226 - val_accuracy: 0.6638 - val_auc: 0.7128 - lr: 0.0010\n",
      "Epoch 10/50\n",
      "234/234 [==============================] - 1s 6ms/step - loss: 0.5769 - accuracy: 0.6880 - auc: 0.7600 - val_loss: 0.6064 - val_accuracy: 0.6627 - val_auc: 0.7308 - lr: 0.0010\n",
      "Epoch 11/50\n",
      "234/234 [==============================] - 1s 6ms/step - loss: 0.5719 - accuracy: 0.6950 - auc: 0.7655 - val_loss: 0.6120 - val_accuracy: 0.6638 - val_auc: 0.7233 - lr: 0.0010\n",
      "Epoch 12/50\n",
      "234/234 [==============================] - 2s 7ms/step - loss: 0.5650 - accuracy: 0.6994 - auc: 0.7739 - val_loss: 0.6287 - val_accuracy: 0.6499 - val_auc: 0.7109 - lr: 0.0010\n",
      "Epoch 13/50\n",
      "234/234 [==============================] - 1s 6ms/step - loss: 0.5603 - accuracy: 0.6998 - auc: 0.7774 - val_loss: 0.6238 - val_accuracy: 0.6505 - val_auc: 0.7170 - lr: 0.0010\n",
      "Epoch 14/50\n",
      "234/234 [==============================] - 1s 6ms/step - loss: 0.5576 - accuracy: 0.7041 - auc: 0.7810 - val_loss: 0.6106 - val_accuracy: 0.6660 - val_auc: 0.7313 - lr: 0.0010\n",
      "Epoch 15/50\n",
      "234/234 [==============================] - 1s 6ms/step - loss: 0.5491 - accuracy: 0.7078 - auc: 0.7876 - val_loss: 0.6122 - val_accuracy: 0.6654 - val_auc: 0.7254 - lr: 0.0010\n",
      "Epoch 16/50\n",
      "234/234 [==============================] - 2s 7ms/step - loss: 0.5455 - accuracy: 0.7098 - auc: 0.7913 - val_loss: 0.6104 - val_accuracy: 0.6708 - val_auc: 0.7302 - lr: 0.0010\n",
      "Epoch 17/50\n",
      "234/234 [==============================] - 3s 12ms/step - loss: 0.5385 - accuracy: 0.7225 - auc: 0.7984 - val_loss: 0.6292 - val_accuracy: 0.6601 - val_auc: 0.7150 - lr: 0.0010\n",
      "Epoch 18/50\n",
      "234/234 [==============================] - 3s 15ms/step - loss: 0.5347 - accuracy: 0.7216 - auc: 0.8018 - val_loss: 0.6162 - val_accuracy: 0.6649 - val_auc: 0.7264 - lr: 0.0010\n",
      "Epoch 19/50\n",
      "234/234 [==============================] - 4s 16ms/step - loss: 0.5313 - accuracy: 0.7200 - auc: 0.8038 - val_loss: 0.6130 - val_accuracy: 0.6782 - val_auc: 0.7300 - lr: 0.0010\n",
      "Epoch 20/50\n",
      "234/234 [==============================] - 2s 9ms/step - loss: 0.5227 - accuracy: 0.7288 - auc: 0.8119 - val_loss: 0.6248 - val_accuracy: 0.6633 - val_auc: 0.7257 - lr: 0.0010\n",
      "Epoch 21/50\n",
      "234/234 [==============================] - 2s 8ms/step - loss: 0.4999 - accuracy: 0.7515 - auc: 0.8337 - val_loss: 0.6143 - val_accuracy: 0.6718 - val_auc: 0.7334 - lr: 1.0000e-04\n",
      "Epoch 22/50\n",
      "234/234 [==============================] - 3s 14ms/step - loss: 0.4929 - accuracy: 0.7554 - auc: 0.8401 - val_loss: 0.6129 - val_accuracy: 0.6772 - val_auc: 0.7353 - lr: 1.0000e-04\n",
      "Epoch 23/50\n",
      "234/234 [==============================] - 2s 8ms/step - loss: 0.4897 - accuracy: 0.7554 - auc: 0.8425 - val_loss: 0.6108 - val_accuracy: 0.6782 - val_auc: 0.7361 - lr: 1.0000e-04\n",
      "Epoch 24/50\n",
      "234/234 [==============================] - 2s 8ms/step - loss: 0.4878 - accuracy: 0.7578 - auc: 0.8441 - val_loss: 0.6117 - val_accuracy: 0.6777 - val_auc: 0.7364 - lr: 1.0000e-04\n",
      "Epoch 25/50\n",
      "234/234 [==============================] - 2s 8ms/step - loss: 0.4862 - accuracy: 0.7601 - auc: 0.8454 - val_loss: 0.6124 - val_accuracy: 0.6756 - val_auc: 0.7379 - lr: 1.0000e-04\n",
      "Epoch 26/50\n",
      "234/234 [==============================] - 2s 7ms/step - loss: 0.4845 - accuracy: 0.7586 - auc: 0.8467 - val_loss: 0.6134 - val_accuracy: 0.6788 - val_auc: 0.7379 - lr: 1.0000e-04\n",
      "Epoch 27/50\n",
      "234/234 [==============================] - 2s 10ms/step - loss: 0.4830 - accuracy: 0.7590 - auc: 0.8473 - val_loss: 0.6143 - val_accuracy: 0.6750 - val_auc: 0.7377 - lr: 1.0000e-04\n",
      "Epoch 28/50\n",
      "234/234 [==============================] - 2s 8ms/step - loss: 0.4816 - accuracy: 0.7627 - auc: 0.8489 - val_loss: 0.6189 - val_accuracy: 0.6724 - val_auc: 0.7357 - lr: 1.0000e-04\n",
      "Epoch 29/50\n",
      "234/234 [==============================] - 2s 7ms/step - loss: 0.4801 - accuracy: 0.7595 - auc: 0.8500 - val_loss: 0.6136 - val_accuracy: 0.6750 - val_auc: 0.7368 - lr: 1.0000e-04\n",
      "Epoch 30/50\n",
      "234/234 [==============================] - 2s 8ms/step - loss: 0.4792 - accuracy: 0.7611 - auc: 0.8505 - val_loss: 0.6156 - val_accuracy: 0.6777 - val_auc: 0.7365 - lr: 1.0000e-04\n",
      "Epoch 31/50\n",
      "234/234 [==============================] - 2s 7ms/step - loss: 0.4754 - accuracy: 0.7661 - auc: 0.8546 - val_loss: 0.6155 - val_accuracy: 0.6782 - val_auc: 0.7367 - lr: 1.0000e-05\n",
      "Epoch 32/50\n",
      "234/234 [==============================] - 2s 10ms/step - loss: 0.4750 - accuracy: 0.7654 - auc: 0.8549 - val_loss: 0.6154 - val_accuracy: 0.6799 - val_auc: 0.7370 - lr: 1.0000e-05\n",
      "Epoch 33/50\n",
      "234/234 [==============================] - 2s 8ms/step - loss: 0.4747 - accuracy: 0.7659 - auc: 0.8549 - val_loss: 0.6157 - val_accuracy: 0.6799 - val_auc: 0.7369 - lr: 1.0000e-05\n",
      "Epoch 34/50\n",
      "234/234 [==============================] - 2s 8ms/step - loss: 0.4745 - accuracy: 0.7659 - auc: 0.8549 - val_loss: 0.6156 - val_accuracy: 0.6793 - val_auc: 0.7371 - lr: 1.0000e-05\n",
      "Epoch 35/50\n",
      "234/234 [==============================] - 2s 8ms/step - loss: 0.4743 - accuracy: 0.7661 - auc: 0.8549 - val_loss: 0.6158 - val_accuracy: 0.6799 - val_auc: 0.7370 - lr: 1.0000e-05\n",
      "Epoch 36/50\n",
      "234/234 [==============================] - 2s 10ms/step - loss: 0.4742 - accuracy: 0.7662 - auc: 0.8551 - val_loss: 0.6159 - val_accuracy: 0.6799 - val_auc: 0.7370 - lr: 1.0000e-05\n",
      "Epoch 37/50\n",
      "234/234 [==============================] - 1s 6ms/step - loss: 0.4740 - accuracy: 0.7659 - auc: 0.8551 - val_loss: 0.6160 - val_accuracy: 0.6799 - val_auc: 0.7368 - lr: 1.0000e-05\n",
      "Epoch 38/50\n",
      "234/234 [==============================] - 2s 10ms/step - loss: 0.4739 - accuracy: 0.7665 - auc: 0.8554 - val_loss: 0.6160 - val_accuracy: 0.6793 - val_auc: 0.7369 - lr: 1.0000e-05\n",
      "Epoch 39/50\n",
      "234/234 [==============================] - 2s 7ms/step - loss: 0.4738 - accuracy: 0.7661 - auc: 0.8553 - val_loss: 0.6162 - val_accuracy: 0.6809 - val_auc: 0.7370 - lr: 1.0000e-05\n",
      "Epoch 40/50\n",
      "234/234 [==============================] - 3s 12ms/step - loss: 0.4737 - accuracy: 0.7674 - auc: 0.8554 - val_loss: 0.6164 - val_accuracy: 0.6799 - val_auc: 0.7371 - lr: 1.0000e-05\n",
      "Epoch 41/50\n",
      "234/234 [==============================] - 2s 10ms/step - loss: 0.4731 - accuracy: 0.7670 - auc: 0.8559 - val_loss: 0.6164 - val_accuracy: 0.6799 - val_auc: 0.7371 - lr: 1.0000e-06\n",
      "Epoch 42/50\n",
      "234/234 [==============================] - 2s 7ms/step - loss: 0.4731 - accuracy: 0.7669 - auc: 0.8559 - val_loss: 0.6164 - val_accuracy: 0.6799 - val_auc: 0.7371 - lr: 1.0000e-06\n",
      "Epoch 43/50\n",
      "234/234 [==============================] - 2s 8ms/step - loss: 0.4731 - accuracy: 0.7667 - auc: 0.8559 - val_loss: 0.6164 - val_accuracy: 0.6799 - val_auc: 0.7371 - lr: 1.0000e-06\n",
      "Epoch 44/50\n",
      "234/234 [==============================] - 2s 8ms/step - loss: 0.4731 - accuracy: 0.7667 - auc: 0.8559 - val_loss: 0.6164 - val_accuracy: 0.6799 - val_auc: 0.7371 - lr: 1.0000e-06\n",
      "Epoch 45/50\n",
      "234/234 [==============================] - 2s 7ms/step - loss: 0.4731 - accuracy: 0.7670 - auc: 0.8559 - val_loss: 0.6164 - val_accuracy: 0.6799 - val_auc: 0.7371 - lr: 1.0000e-06\n",
      "Epoch 46/50\n",
      "234/234 [==============================] - 2s 7ms/step - loss: 0.4731 - accuracy: 0.7670 - auc: 0.8559 - val_loss: 0.6164 - val_accuracy: 0.6799 - val_auc: 0.7371 - lr: 1.0000e-06\n",
      "Epoch 47/50\n",
      "234/234 [==============================] - 2s 7ms/step - loss: 0.4731 - accuracy: 0.7669 - auc: 0.8560 - val_loss: 0.6164 - val_accuracy: 0.6799 - val_auc: 0.7370 - lr: 1.0000e-06\n",
      "Epoch 48/50\n",
      "234/234 [==============================] - 2s 7ms/step - loss: 0.4731 - accuracy: 0.7665 - auc: 0.8560 - val_loss: 0.6164 - val_accuracy: 0.6799 - val_auc: 0.7371 - lr: 1.0000e-06\n",
      "Epoch 49/50\n",
      "234/234 [==============================] - 2s 8ms/step - loss: 0.4730 - accuracy: 0.7671 - auc: 0.8559 - val_loss: 0.6164 - val_accuracy: 0.6799 - val_auc: 0.7370 - lr: 1.0000e-06\n",
      "Epoch 50/50\n",
      "234/234 [==============================] - 2s 7ms/step - loss: 0.4730 - accuracy: 0.7667 - auc: 0.8560 - val_loss: 0.6164 - val_accuracy: 0.6799 - val_auc: 0.7370 - lr: 1.0000e-06\n"
     ]
    }
   ],
   "source": [
    "inputs = tf.keras.Input(shape=(X_train.shape[1]))\n",
    "x = tf.keras.layers.Dense(256, activation='relu')(inputs)\n",
    "x = tf.keras.layers.Dense(256, activation='relu')(x)\n",
    "outputs = tf.keras.layers.Dense(1, activation='sigmoid')(x)\n",
    "\n",
    "model=tf.keras.Model(inputs,outputs)\n",
    "model.compile(optimizer='adam',\n",
    "             loss='binary_crossentropy',\n",
    "             metrics=['accuracy',tf.keras.metrics.AUC(name='auc')]\n",
    "             )\n",
    "batch_size=32\n",
    "epochs=50\n",
    "history=model.fit(\n",
    "            X_train,\n",
    "            Y_train,\n",
    "            validation_split=0.2,\n",
    "            batch_size=batch_size,\n",
    "            epochs=epochs,\n",
    "            callbacks=[tf.keras.callbacks.ReduceLROnPlateau()]\n",
    ")"
   ]
  },
  {
   "cell_type": "code",
   "execution_count": 23,
   "metadata": {},
   "outputs": [
    {
     "name": "stdout",
     "output_type": "stream",
     "text": [
      "109/109 [==============================] - 1s 5ms/step - loss: 0.6062 - accuracy: 0.6701 - auc: 0.7442\n"
     ]
    },
    {
     "data": {
      "text/plain": [
       "[0.6062213778495789, 0.6701358556747437, 0.7442114353179932]"
      ]
     },
     "execution_count": 23,
     "metadata": {},
     "output_type": "execute_result"
    }
   ],
   "source": [
    "model.evaluate(x_test,y_test)"
   ]
  },
  {
   "cell_type": "code",
   "execution_count": 24,
   "metadata": {},
   "outputs": [
    {
     "name": "stdout",
     "output_type": "stream",
     "text": [
      "109/109 [==============================] - 0s 4ms/step\n"
     ]
    },
    {
     "name": "stderr",
     "output_type": "stream",
     "text": [
      "/tmp/ipykernel_3133/295032384.py:4: DeprecationWarning: `np.int` is a deprecated alias for the builtin `int`. To silence this warning, use `int` by itself. Doing this will not modify any behavior and is safe. When replacing `np.int`, you may wish to use e.g. `np.int64` or `np.int32` to specify the precision. If you wish to review your current use, check the release note link for additional information.\n",
      "Deprecated in NumPy 1.20; for more details and guidance: https://numpy.org/devdocs/release/1.20.0-notes.html#deprecations\n",
      "  y_pred = np.array(y_pred >=0.5, dtype=np.int)\n"
     ]
    },
    {
     "data": {
      "text/plain": [
       "array([0, 0, 1, ..., 0, 1, 0])"
      ]
     },
     "execution_count": 24,
     "metadata": {},
     "output_type": "execute_result"
    }
   ],
   "source": [
    "y_true = np.array(y_test)\n",
    "\n",
    "y_pred = np.squeeze(model.predict(x_test))\n",
    "y_pred = np.array(y_pred >=0.5, dtype=np.int)\n",
    "y_pred"
   ]
  },
  {
   "cell_type": "code",
   "execution_count": 25,
   "metadata": {},
   "outputs": [
    {
     "data": {
      "text/plain": [
       "0.67013587742122"
      ]
     },
     "execution_count": 25,
     "metadata": {},
     "output_type": "execute_result"
    }
   ],
   "source": [
    "accuracyKeras=accuracy_score(y_true, y_pred)\n",
    "accuracyKeras"
   ]
  }
 ],
 "metadata": {
  "kernelspec": {
   "display_name": "base",
   "language": "python",
   "name": "python3"
  },
  "language_info": {
   "codemirror_mode": {
    "name": "ipython",
    "version": 3
   },
   "file_extension": ".py",
   "mimetype": "text/x-python",
   "name": "python",
   "nbconvert_exporter": "python",
   "pygments_lexer": "ipython3",
   "version": "3.10.13"
  }
 },
 "nbformat": 4,
 "nbformat_minor": 2
}
